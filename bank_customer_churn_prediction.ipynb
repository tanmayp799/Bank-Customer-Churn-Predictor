{
 "cells": [
  {
   "cell_type": "code",
   "execution_count": 1,
   "metadata": {},
   "outputs": [],
   "source": [
    "import pandas as pd\n",
    "import numpy as np\n",
    "import matplotlib.pyplot as plt\n",
    "%matplotlib inline\n",
    "\n"
   ]
  },
  {
   "cell_type": "code",
   "execution_count": 2,
   "metadata": {},
   "outputs": [],
   "source": [
    "#Importing the dataset\n",
    "df = pd.read_csv(\"Churn_Modelling.csv\")"
   ]
  },
  {
   "cell_type": "code",
   "execution_count": 3,
   "metadata": {},
   "outputs": [
    {
     "data": {
      "text/plain": [
       "(10000, 14)"
      ]
     },
     "execution_count": 3,
     "metadata": {},
     "output_type": "execute_result"
    }
   ],
   "source": [
    "df.shape"
   ]
  },
  {
   "cell_type": "markdown",
   "metadata": {},
   "source": [
    "## EDA"
   ]
  },
  {
   "cell_type": "code",
   "execution_count": 4,
   "metadata": {},
   "outputs": [
    {
     "data": {
      "text/html": [
       "<div>\n",
       "<style scoped>\n",
       "    .dataframe tbody tr th:only-of-type {\n",
       "        vertical-align: middle;\n",
       "    }\n",
       "\n",
       "    .dataframe tbody tr th {\n",
       "        vertical-align: top;\n",
       "    }\n",
       "\n",
       "    .dataframe thead th {\n",
       "        text-align: right;\n",
       "    }\n",
       "</style>\n",
       "<table border=\"1\" class=\"dataframe\">\n",
       "  <thead>\n",
       "    <tr style=\"text-align: right;\">\n",
       "      <th></th>\n",
       "      <th>RowNumber</th>\n",
       "      <th>CustomerId</th>\n",
       "      <th>Surname</th>\n",
       "      <th>CreditScore</th>\n",
       "      <th>Geography</th>\n",
       "      <th>Gender</th>\n",
       "      <th>Age</th>\n",
       "      <th>Tenure</th>\n",
       "      <th>Balance</th>\n",
       "      <th>NumOfProducts</th>\n",
       "      <th>HasCrCard</th>\n",
       "      <th>IsActiveMember</th>\n",
       "      <th>EstimatedSalary</th>\n",
       "      <th>Exited</th>\n",
       "    </tr>\n",
       "  </thead>\n",
       "  <tbody>\n",
       "    <tr>\n",
       "      <th>0</th>\n",
       "      <td>1</td>\n",
       "      <td>15634602</td>\n",
       "      <td>Hargrave</td>\n",
       "      <td>619</td>\n",
       "      <td>France</td>\n",
       "      <td>Female</td>\n",
       "      <td>42</td>\n",
       "      <td>2</td>\n",
       "      <td>0.00</td>\n",
       "      <td>1</td>\n",
       "      <td>1</td>\n",
       "      <td>1</td>\n",
       "      <td>101348.88</td>\n",
       "      <td>1</td>\n",
       "    </tr>\n",
       "    <tr>\n",
       "      <th>1</th>\n",
       "      <td>2</td>\n",
       "      <td>15647311</td>\n",
       "      <td>Hill</td>\n",
       "      <td>608</td>\n",
       "      <td>Spain</td>\n",
       "      <td>Female</td>\n",
       "      <td>41</td>\n",
       "      <td>1</td>\n",
       "      <td>83807.86</td>\n",
       "      <td>1</td>\n",
       "      <td>0</td>\n",
       "      <td>1</td>\n",
       "      <td>112542.58</td>\n",
       "      <td>0</td>\n",
       "    </tr>\n",
       "    <tr>\n",
       "      <th>2</th>\n",
       "      <td>3</td>\n",
       "      <td>15619304</td>\n",
       "      <td>Onio</td>\n",
       "      <td>502</td>\n",
       "      <td>France</td>\n",
       "      <td>Female</td>\n",
       "      <td>42</td>\n",
       "      <td>8</td>\n",
       "      <td>159660.80</td>\n",
       "      <td>3</td>\n",
       "      <td>1</td>\n",
       "      <td>0</td>\n",
       "      <td>113931.57</td>\n",
       "      <td>1</td>\n",
       "    </tr>\n",
       "    <tr>\n",
       "      <th>3</th>\n",
       "      <td>4</td>\n",
       "      <td>15701354</td>\n",
       "      <td>Boni</td>\n",
       "      <td>699</td>\n",
       "      <td>France</td>\n",
       "      <td>Female</td>\n",
       "      <td>39</td>\n",
       "      <td>1</td>\n",
       "      <td>0.00</td>\n",
       "      <td>2</td>\n",
       "      <td>0</td>\n",
       "      <td>0</td>\n",
       "      <td>93826.63</td>\n",
       "      <td>0</td>\n",
       "    </tr>\n",
       "    <tr>\n",
       "      <th>4</th>\n",
       "      <td>5</td>\n",
       "      <td>15737888</td>\n",
       "      <td>Mitchell</td>\n",
       "      <td>850</td>\n",
       "      <td>Spain</td>\n",
       "      <td>Female</td>\n",
       "      <td>43</td>\n",
       "      <td>2</td>\n",
       "      <td>125510.82</td>\n",
       "      <td>1</td>\n",
       "      <td>1</td>\n",
       "      <td>1</td>\n",
       "      <td>79084.10</td>\n",
       "      <td>0</td>\n",
       "    </tr>\n",
       "  </tbody>\n",
       "</table>\n",
       "</div>"
      ],
      "text/plain": [
       "   RowNumber  CustomerId   Surname  CreditScore Geography  Gender  Age  \\\n",
       "0          1    15634602  Hargrave          619    France  Female   42   \n",
       "1          2    15647311      Hill          608     Spain  Female   41   \n",
       "2          3    15619304      Onio          502    France  Female   42   \n",
       "3          4    15701354      Boni          699    France  Female   39   \n",
       "4          5    15737888  Mitchell          850     Spain  Female   43   \n",
       "\n",
       "   Tenure    Balance  NumOfProducts  HasCrCard  IsActiveMember  \\\n",
       "0       2       0.00              1          1               1   \n",
       "1       1   83807.86              1          0               1   \n",
       "2       8  159660.80              3          1               0   \n",
       "3       1       0.00              2          0               0   \n",
       "4       2  125510.82              1          1               1   \n",
       "\n",
       "   EstimatedSalary  Exited  \n",
       "0        101348.88       1  \n",
       "1        112542.58       0  \n",
       "2        113931.57       1  \n",
       "3         93826.63       0  \n",
       "4         79084.10       0  "
      ]
     },
     "execution_count": 4,
     "metadata": {},
     "output_type": "execute_result"
    }
   ],
   "source": [
    "#Let's take a look at our dataset first\n",
    "df.head()"
   ]
  },
  {
   "cell_type": "markdown",
   "metadata": {},
   "source": [
    "For our Deep Learning model, the columns RowNumber, CustomerId and Surname are irrelevant. Let's drop them."
   ]
  },
  {
   "cell_type": "code",
   "execution_count": 5,
   "metadata": {},
   "outputs": [],
   "source": [
    "df.drop(['RowNumber','CustomerId','Surname'],axis='columns',inplace=True)"
   ]
  },
  {
   "cell_type": "code",
   "execution_count": 6,
   "metadata": {},
   "outputs": [
    {
     "data": {
      "text/html": [
       "<div>\n",
       "<style scoped>\n",
       "    .dataframe tbody tr th:only-of-type {\n",
       "        vertical-align: middle;\n",
       "    }\n",
       "\n",
       "    .dataframe tbody tr th {\n",
       "        vertical-align: top;\n",
       "    }\n",
       "\n",
       "    .dataframe thead th {\n",
       "        text-align: right;\n",
       "    }\n",
       "</style>\n",
       "<table border=\"1\" class=\"dataframe\">\n",
       "  <thead>\n",
       "    <tr style=\"text-align: right;\">\n",
       "      <th></th>\n",
       "      <th>CreditScore</th>\n",
       "      <th>Geography</th>\n",
       "      <th>Gender</th>\n",
       "      <th>Age</th>\n",
       "      <th>Tenure</th>\n",
       "      <th>Balance</th>\n",
       "      <th>NumOfProducts</th>\n",
       "      <th>HasCrCard</th>\n",
       "      <th>IsActiveMember</th>\n",
       "      <th>EstimatedSalary</th>\n",
       "      <th>Exited</th>\n",
       "    </tr>\n",
       "  </thead>\n",
       "  <tbody>\n",
       "    <tr>\n",
       "      <th>7912</th>\n",
       "      <td>642</td>\n",
       "      <td>France</td>\n",
       "      <td>Male</td>\n",
       "      <td>35</td>\n",
       "      <td>2</td>\n",
       "      <td>133161.95</td>\n",
       "      <td>1</td>\n",
       "      <td>0</td>\n",
       "      <td>1</td>\n",
       "      <td>122254.86</td>\n",
       "      <td>0</td>\n",
       "    </tr>\n",
       "    <tr>\n",
       "      <th>4625</th>\n",
       "      <td>510</td>\n",
       "      <td>France</td>\n",
       "      <td>Female</td>\n",
       "      <td>45</td>\n",
       "      <td>10</td>\n",
       "      <td>103821.47</td>\n",
       "      <td>2</td>\n",
       "      <td>0</td>\n",
       "      <td>1</td>\n",
       "      <td>77878.62</td>\n",
       "      <td>0</td>\n",
       "    </tr>\n",
       "    <tr>\n",
       "      <th>2340</th>\n",
       "      <td>523</td>\n",
       "      <td>Germany</td>\n",
       "      <td>Male</td>\n",
       "      <td>41</td>\n",
       "      <td>0</td>\n",
       "      <td>119276.31</td>\n",
       "      <td>1</td>\n",
       "      <td>0</td>\n",
       "      <td>0</td>\n",
       "      <td>122284.38</td>\n",
       "      <td>1</td>\n",
       "    </tr>\n",
       "    <tr>\n",
       "      <th>8442</th>\n",
       "      <td>598</td>\n",
       "      <td>France</td>\n",
       "      <td>Female</td>\n",
       "      <td>34</td>\n",
       "      <td>4</td>\n",
       "      <td>0.00</td>\n",
       "      <td>2</td>\n",
       "      <td>0</td>\n",
       "      <td>0</td>\n",
       "      <td>60894.26</td>\n",
       "      <td>0</td>\n",
       "    </tr>\n",
       "    <tr>\n",
       "      <th>7985</th>\n",
       "      <td>696</td>\n",
       "      <td>Germany</td>\n",
       "      <td>Female</td>\n",
       "      <td>27</td>\n",
       "      <td>2</td>\n",
       "      <td>96129.32</td>\n",
       "      <td>2</td>\n",
       "      <td>1</td>\n",
       "      <td>1</td>\n",
       "      <td>5983.70</td>\n",
       "      <td>0</td>\n",
       "    </tr>\n",
       "  </tbody>\n",
       "</table>\n",
       "</div>"
      ],
      "text/plain": [
       "      CreditScore Geography  Gender  Age  Tenure    Balance  NumOfProducts  \\\n",
       "7912          642    France    Male   35       2  133161.95              1   \n",
       "4625          510    France  Female   45      10  103821.47              2   \n",
       "2340          523   Germany    Male   41       0  119276.31              1   \n",
       "8442          598    France  Female   34       4       0.00              2   \n",
       "7985          696   Germany  Female   27       2   96129.32              2   \n",
       "\n",
       "      HasCrCard  IsActiveMember  EstimatedSalary  Exited  \n",
       "7912          0               1        122254.86       0  \n",
       "4625          0               1         77878.62       0  \n",
       "2340          0               0        122284.38       1  \n",
       "8442          0               0         60894.26       0  \n",
       "7985          1               1          5983.70       0  "
      ]
     },
     "execution_count": 6,
     "metadata": {},
     "output_type": "execute_result"
    }
   ],
   "source": [
    "#Let's look at our dataset now\n",
    "df.sample(5)"
   ]
  },
  {
   "cell_type": "code",
   "execution_count": 7,
   "metadata": {},
   "outputs": [
    {
     "data": {
      "text/plain": [
       "CreditScore          int64\n",
       "Geography           object\n",
       "Gender              object\n",
       "Age                  int64\n",
       "Tenure               int64\n",
       "Balance            float64\n",
       "NumOfProducts        int64\n",
       "HasCrCard            int64\n",
       "IsActiveMember       int64\n",
       "EstimatedSalary    float64\n",
       "Exited               int64\n",
       "dtype: object"
      ]
     },
     "execution_count": 7,
     "metadata": {},
     "output_type": "execute_result"
    }
   ],
   "source": [
    "df.dtypes"
   ]
  },
  {
   "cell_type": "markdown",
   "metadata": {},
   "source": [
    "Let's take a look at the null values, if any"
   ]
  },
  {
   "cell_type": "code",
   "execution_count": 8,
   "metadata": {},
   "outputs": [
    {
     "data": {
      "text/plain": [
       "CreditScore        0\n",
       "Geography          0\n",
       "Gender             0\n",
       "Age                0\n",
       "Tenure             0\n",
       "Balance            0\n",
       "NumOfProducts      0\n",
       "HasCrCard          0\n",
       "IsActiveMember     0\n",
       "EstimatedSalary    0\n",
       "Exited             0\n",
       "dtype: int64"
      ]
     },
     "execution_count": 8,
     "metadata": {},
     "output_type": "execute_result"
    }
   ],
   "source": [
    "df.isnull().sum()"
   ]
  },
  {
   "cell_type": "markdown",
   "metadata": {},
   "source": [
    "Great! No null values"
   ]
  },
  {
   "cell_type": "markdown",
   "metadata": {},
   "source": [
    "The unique values of the features will provide us some insight on what steps to take next. Let's examine them"
   ]
  },
  {
   "cell_type": "code",
   "execution_count": 9,
   "metadata": {},
   "outputs": [
    {
     "name": "stdout",
     "output_type": "stream",
     "text": [
      "CreditScore : [619 608 502 699 850 645 822 376 501 684 528 497 476 549 635 616 653 587\n",
      " 726 732 636 510 669 846 577 756 571 574 411 591 533 553 520 722 475 490\n",
      " 804 582 472 465 556 834 660 776 829 637 550 698 585 788 655 601 656 725\n",
      " 511 614 742 687 555 603 751 581 735 661 675 738 813 657 604 519 664 678\n",
      " 757 416 665 777 543 506 493 652 750 729 646 647 808 524 769 730 515 773\n",
      " 814 710 413 623 670 622 785 605 479 685 538 562 721 628 668 828 674 625\n",
      " 432 770 758 795 686 789 589 461 584 579 663 682 793 691 485 650 754 535\n",
      " 716 539 706 586 631 717 800 683 704 615 667 484 480 578 512 606 597 778\n",
      " 514 525 715 580 807 521 759 516 711 618 643 671 689 620 676 572 695 592\n",
      " 567 694 547 594 673 610 767 763 712 703 662 659 523 772 545 634 739 771\n",
      " 681 544 696 766 727 693 557 531 498 651 791 733 811 707 714 782 775 799\n",
      " 602 744 588 747 583 627 731 629 438 642 806 474 559 429 680 749 734 644\n",
      " 626 649 805 718 840 630 654 762 568 613 522 737 648 443 640 540 460 593\n",
      " 801 611 802 745 483 690 492 709 705 560 752 701 537 487 596 702 486 724\n",
      " 548 464 790 534 748 494 590 468 509 818 816 536 753 774 621 569 658 798\n",
      " 641 542 692 639 765 570 638 599 632 779 527 564 833 504 842 508 417 598\n",
      " 741 607 761 848 546 439 755 760 526 713 700 666 566 495 688 612 477 427\n",
      " 839 819 720 459 503 624 529 563 482 796 445 746 786 554 672 787 499 844\n",
      " 450 815 838 803 736 633 600 679 517 792 743 488 421 841 708 507 505 456\n",
      " 435 561 518 565 728 784 552 609 764 697 723 551 444 719 496 541 830 812\n",
      " 677 420 595 617 809 500 826 434 513 478 797 363 399 463 780 452 575 837\n",
      " 794 824 428 823 781 849 489 431 457 768 831 359 820 573 576 558 817 449\n",
      " 440 415 821 530 350 446 425 740 481 783 358 845 451 458 469 423 404 836\n",
      " 473 835 466 491 351 827 843 365 532 414 453 471 401 810 832 470 447 422\n",
      " 825 430 436 426 408 847 418 437 410 454 407 455 462 386 405 383 395 467\n",
      " 433 442 424 448 441 367 412 382 373 419]\n",
      "Geography : ['France' 'Spain' 'Germany']\n",
      "Gender : ['Female' 'Male']\n",
      "Age : [42 41 39 43 44 50 29 27 31 24 34 25 35 45 58 32 38 46 36 33 40 51 61 49\n",
      " 37 19 66 56 26 21 55 75 22 30 28 65 48 52 57 73 47 54 72 20 67 79 62 53\n",
      " 80 59 68 23 60 70 63 64 18 82 69 74 71 76 77 88 85 84 78 81 92 83]\n",
      "Tenure : [ 2  1  8  7  4  6  3 10  5  9  0]\n",
      "Balance : [     0.    83807.86 159660.8  ...  57369.61  75075.31 130142.79]\n",
      "NumOfProducts : [1 3 2 4]\n",
      "HasCrCard : [1 0]\n",
      "IsActiveMember : [1 0]\n",
      "EstimatedSalary : [101348.88 112542.58 113931.57 ...  42085.58  92888.52  38190.78]\n",
      "Exited : [1 0]\n"
     ]
    }
   ],
   "source": [
    "for column in df:\n",
    "    print(f'{column} : {df[column].unique()}')"
   ]
  },
  {
   "cell_type": "markdown",
   "metadata": {},
   "source": [
    "Let's see the relation between credit score and churns"
   ]
  },
  {
   "cell_type": "code",
   "execution_count": 10,
   "metadata": {},
   "outputs": [],
   "source": [
    "import seaborn as sns"
   ]
  },
  {
   "cell_type": "code",
   "execution_count": 11,
   "metadata": {},
   "outputs": [
    {
     "data": {
      "text/html": [
       "<div>\n",
       "<style scoped>\n",
       "    .dataframe tbody tr th:only-of-type {\n",
       "        vertical-align: middle;\n",
       "    }\n",
       "\n",
       "    .dataframe tbody tr th {\n",
       "        vertical-align: top;\n",
       "    }\n",
       "\n",
       "    .dataframe thead th {\n",
       "        text-align: right;\n",
       "    }\n",
       "</style>\n",
       "<table border=\"1\" class=\"dataframe\">\n",
       "  <thead>\n",
       "    <tr style=\"text-align: right;\">\n",
       "      <th></th>\n",
       "      <th>CreditScore</th>\n",
       "      <th>Geography</th>\n",
       "      <th>Gender</th>\n",
       "      <th>Age</th>\n",
       "      <th>Tenure</th>\n",
       "      <th>Balance</th>\n",
       "      <th>NumOfProducts</th>\n",
       "      <th>HasCrCard</th>\n",
       "      <th>IsActiveMember</th>\n",
       "      <th>EstimatedSalary</th>\n",
       "      <th>Exited</th>\n",
       "    </tr>\n",
       "  </thead>\n",
       "  <tbody>\n",
       "    <tr>\n",
       "      <th>0</th>\n",
       "      <td>619</td>\n",
       "      <td>France</td>\n",
       "      <td>Female</td>\n",
       "      <td>42</td>\n",
       "      <td>2</td>\n",
       "      <td>0.00</td>\n",
       "      <td>1</td>\n",
       "      <td>1</td>\n",
       "      <td>1</td>\n",
       "      <td>101348.88</td>\n",
       "      <td>1</td>\n",
       "    </tr>\n",
       "    <tr>\n",
       "      <th>1</th>\n",
       "      <td>608</td>\n",
       "      <td>Spain</td>\n",
       "      <td>Female</td>\n",
       "      <td>41</td>\n",
       "      <td>1</td>\n",
       "      <td>83807.86</td>\n",
       "      <td>1</td>\n",
       "      <td>0</td>\n",
       "      <td>1</td>\n",
       "      <td>112542.58</td>\n",
       "      <td>0</td>\n",
       "    </tr>\n",
       "    <tr>\n",
       "      <th>2</th>\n",
       "      <td>502</td>\n",
       "      <td>France</td>\n",
       "      <td>Female</td>\n",
       "      <td>42</td>\n",
       "      <td>8</td>\n",
       "      <td>159660.80</td>\n",
       "      <td>3</td>\n",
       "      <td>1</td>\n",
       "      <td>0</td>\n",
       "      <td>113931.57</td>\n",
       "      <td>1</td>\n",
       "    </tr>\n",
       "    <tr>\n",
       "      <th>3</th>\n",
       "      <td>699</td>\n",
       "      <td>France</td>\n",
       "      <td>Female</td>\n",
       "      <td>39</td>\n",
       "      <td>1</td>\n",
       "      <td>0.00</td>\n",
       "      <td>2</td>\n",
       "      <td>0</td>\n",
       "      <td>0</td>\n",
       "      <td>93826.63</td>\n",
       "      <td>0</td>\n",
       "    </tr>\n",
       "    <tr>\n",
       "      <th>4</th>\n",
       "      <td>850</td>\n",
       "      <td>Spain</td>\n",
       "      <td>Female</td>\n",
       "      <td>43</td>\n",
       "      <td>2</td>\n",
       "      <td>125510.82</td>\n",
       "      <td>1</td>\n",
       "      <td>1</td>\n",
       "      <td>1</td>\n",
       "      <td>79084.10</td>\n",
       "      <td>0</td>\n",
       "    </tr>\n",
       "    <tr>\n",
       "      <th>...</th>\n",
       "      <td>...</td>\n",
       "      <td>...</td>\n",
       "      <td>...</td>\n",
       "      <td>...</td>\n",
       "      <td>...</td>\n",
       "      <td>...</td>\n",
       "      <td>...</td>\n",
       "      <td>...</td>\n",
       "      <td>...</td>\n",
       "      <td>...</td>\n",
       "      <td>...</td>\n",
       "    </tr>\n",
       "    <tr>\n",
       "      <th>9995</th>\n",
       "      <td>771</td>\n",
       "      <td>France</td>\n",
       "      <td>Male</td>\n",
       "      <td>39</td>\n",
       "      <td>5</td>\n",
       "      <td>0.00</td>\n",
       "      <td>2</td>\n",
       "      <td>1</td>\n",
       "      <td>0</td>\n",
       "      <td>96270.64</td>\n",
       "      <td>0</td>\n",
       "    </tr>\n",
       "    <tr>\n",
       "      <th>9996</th>\n",
       "      <td>516</td>\n",
       "      <td>France</td>\n",
       "      <td>Male</td>\n",
       "      <td>35</td>\n",
       "      <td>10</td>\n",
       "      <td>57369.61</td>\n",
       "      <td>1</td>\n",
       "      <td>1</td>\n",
       "      <td>1</td>\n",
       "      <td>101699.77</td>\n",
       "      <td>0</td>\n",
       "    </tr>\n",
       "    <tr>\n",
       "      <th>9997</th>\n",
       "      <td>709</td>\n",
       "      <td>France</td>\n",
       "      <td>Female</td>\n",
       "      <td>36</td>\n",
       "      <td>7</td>\n",
       "      <td>0.00</td>\n",
       "      <td>1</td>\n",
       "      <td>0</td>\n",
       "      <td>1</td>\n",
       "      <td>42085.58</td>\n",
       "      <td>1</td>\n",
       "    </tr>\n",
       "    <tr>\n",
       "      <th>9998</th>\n",
       "      <td>772</td>\n",
       "      <td>Germany</td>\n",
       "      <td>Male</td>\n",
       "      <td>42</td>\n",
       "      <td>3</td>\n",
       "      <td>75075.31</td>\n",
       "      <td>2</td>\n",
       "      <td>1</td>\n",
       "      <td>0</td>\n",
       "      <td>92888.52</td>\n",
       "      <td>1</td>\n",
       "    </tr>\n",
       "    <tr>\n",
       "      <th>9999</th>\n",
       "      <td>792</td>\n",
       "      <td>France</td>\n",
       "      <td>Female</td>\n",
       "      <td>28</td>\n",
       "      <td>4</td>\n",
       "      <td>130142.79</td>\n",
       "      <td>1</td>\n",
       "      <td>1</td>\n",
       "      <td>0</td>\n",
       "      <td>38190.78</td>\n",
       "      <td>0</td>\n",
       "    </tr>\n",
       "  </tbody>\n",
       "</table>\n",
       "<p>10000 rows × 11 columns</p>\n",
       "</div>"
      ],
      "text/plain": [
       "      CreditScore Geography  Gender  Age  Tenure    Balance  NumOfProducts  \\\n",
       "0             619    France  Female   42       2       0.00              1   \n",
       "1             608     Spain  Female   41       1   83807.86              1   \n",
       "2             502    France  Female   42       8  159660.80              3   \n",
       "3             699    France  Female   39       1       0.00              2   \n",
       "4             850     Spain  Female   43       2  125510.82              1   \n",
       "...           ...       ...     ...  ...     ...        ...            ...   \n",
       "9995          771    France    Male   39       5       0.00              2   \n",
       "9996          516    France    Male   35      10   57369.61              1   \n",
       "9997          709    France  Female   36       7       0.00              1   \n",
       "9998          772   Germany    Male   42       3   75075.31              2   \n",
       "9999          792    France  Female   28       4  130142.79              1   \n",
       "\n",
       "      HasCrCard  IsActiveMember  EstimatedSalary  Exited  \n",
       "0             1               1        101348.88       1  \n",
       "1             0               1        112542.58       0  \n",
       "2             1               0        113931.57       1  \n",
       "3             0               0         93826.63       0  \n",
       "4             1               1         79084.10       0  \n",
       "...         ...             ...              ...     ...  \n",
       "9995          1               0         96270.64       0  \n",
       "9996          1               1        101699.77       0  \n",
       "9997          0               1         42085.58       1  \n",
       "9998          1               0         92888.52       1  \n",
       "9999          1               0         38190.78       0  \n",
       "\n",
       "[10000 rows x 11 columns]"
      ]
     },
     "execution_count": 11,
     "metadata": {},
     "output_type": "execute_result"
    }
   ],
   "source": [
    "df"
   ]
  },
  {
   "cell_type": "code",
   "execution_count": 12,
   "metadata": {},
   "outputs": [
    {
     "data": {
      "text/plain": [
       "<AxesSubplot:xlabel='CreditScore', ylabel='Count'>"
      ]
     },
     "execution_count": 12,
     "metadata": {},
     "output_type": "execute_result"
    },
    {
     "data": {
      "image/png": "[encoded data removed]",
      "text/plain": [
       "<Figure size 432x288 with 1 Axes>"
      ]
     },
     "metadata": {
      "needs_background": "light"
     },
     "output_type": "display_data"
    }
   ],
   "source": [
    "sns.histplot(data=df,x='CreditScore',hue='Exited',palette=['green','red'],multiple='dodge',bins=30,kde=True)"
   ]
  },
  {
   "cell_type": "markdown",
   "metadata": {},
   "source": [
    "Maximum number of people leaving have a relatively average credit score.\n",
    "\n",
    "Now, let's explore the relationship between Estimated salary and Exits."
   ]
  },
  {
   "cell_type": "code",
   "execution_count": 24,
   "metadata": {},
   "outputs": [
    {
     "data": {
      "image/png": "[encoded data removed]",
      "text/plain": [
       "<Figure size 432x288 with 1 Axes>"
      ]
     },
     "metadata": {
      "needs_background": "light"
     },
     "output_type": "display_data"
    }
   ],
   "source": [
    "sns.histplot(data=df,x='EstimatedSalary',hue='Exited')\n",
    "plt.tight_layout()"
   ]
  },
  {
   "cell_type": "code",
   "execution_count": 16,
   "metadata": {},
   "outputs": [
    {
     "data": {
      "text/plain": [
       "<AxesSubplot:xlabel='HasCrCard', ylabel='count'>"
      ]
     },
     "execution_count": 16,
     "metadata": {},
     "output_type": "execute_result"
    },
    {
     "data": {
      "image/png": "[encoded data removed]",
      "text/plain": [
       "<Figure size 432x288 with 1 Axes>"
      ]
     },
     "metadata": {
      "needs_background": "light"
     },
     "output_type": "display_data"
    }
   ],
   "source": [
    "sns.countplot(data=df,x='HasCrCard',hue='Exited')"
   ]
  },
  {
   "cell_type": "code",
   "execution_count": 21,
   "metadata": {},
   "outputs": [
    {
     "data": {
      "text/plain": [
       "<AxesSubplot:xlabel='IsActiveMember', ylabel='count'>"
      ]
     },
     "execution_count": 21,
     "metadata": {},
     "output_type": "execute_result"
    },
    {
     "data": {
      "image/png": "[encoded data removed]",
      "text/plain": [
       "<Figure size 432x288 with 1 Axes>"
      ]
     },
     "metadata": {
      "needs_background": "light"
     },
     "output_type": "display_data"
    }
   ],
   "source": [
    "sns.countplot(data=df,x='IsActiveMember',hue='Exited')"
   ]
  },
  {
   "cell_type": "markdown",
   "metadata": {},
   "source": [
    "No valuable insights.\n",
    "\n",
    "Let us now look at the relationship of Exits with tenure,balance and age."
   ]
  },
  {
   "cell_type": "code",
   "execution_count": 17,
   "metadata": {},
   "outputs": [
    {
     "data": {
      "image/png": "[encoded data removed]",
      "text/plain": [
       "<Figure size 432x288 with 1 Axes>"
      ]
     },
     "metadata": {
      "needs_background": "light"
     },
     "output_type": "display_data"
    },
    {
     "data": {
      "image/png": "[encoded data removed]",
      "text/plain": [
       "<Figure size 432x288 with 1 Axes>"
      ]
     },
     "metadata": {
      "needs_background": "light"
     },
     "output_type": "display_data"
    },
    {
     "data": {
      "image/png": "[encoded data removed]",
      "text/plain": [
       "<Figure size 432x288 with 1 Axes>"
      ]
     },
     "metadata": {
      "needs_background": "light"
     },
     "output_type": "display_data"
    }
   ],
   "source": [
    "for col in [\"Tenure\",\"Balance\", \"Age\"]:\n",
    "    sns.histplot(data=df,x=col,hue='Exited',palette=['green','red'],multiple='dodge',bins=10,kde=True)\n",
    "    plt.tight_layout()\n",
    "    plt.show()"
   ]
  },
  {
   "cell_type": "markdown",
   "metadata": {},
   "source": [
    "We are able to observe a normal distribution in most of the cases"
   ]
  },
  {
   "cell_type": "code",
   "execution_count": 20,
   "metadata": {},
   "outputs": [
    {
     "data": {
      "text/plain": [
       "<AxesSubplot:xlabel='NumOfProducts', ylabel='count'>"
      ]
     },
     "execution_count": 20,
     "metadata": {},
     "output_type": "execute_result"
    },
    {
     "data": {
      "image/png": "[encoded data removed]",
      "text/plain": [
       "<Figure size 432x288 with 1 Axes>"
      ]
     },
     "metadata": {
      "needs_background": "light"
     },
     "output_type": "display_data"
    }
   ],
   "source": [
    "sns.countplot(data=df,x='NumOfProducts',hue='Exited')"
   ]
  },
  {
   "cell_type": "code",
   "execution_count": 171,
   "metadata": {
    "scrolled": true
   },
   "outputs": [
    {
     "data": {
      "text/plain": [
       "<AxesSubplot:xlabel='CreditScore', ylabel='Age'>"
      ]
     },
     "execution_count": 171,
     "metadata": {},
     "output_type": "execute_result"
    },
    {
     "data": {
      "image/png": "[encoded data removed]",
      "text/plain": [
       "<Figure size 432x288 with 1 Axes>"
      ]
     },
     "metadata": {
      "needs_background": "light"
     },
     "output_type": "display_data"
    }
   ],
   "source": [
    "sns.scatterplot(data=df,y='Age',x=df[df['Exited']==1]['CreditScore'],alpha=0.2)\n"
   ]
  },
  {
   "cell_type": "markdown",
   "metadata": {},
   "source": [
    "### Data Preprocessing\n",
    "Now, we would like to convert the columns with \"object\" data-types into numeric values, so that we can feed it to our model.\n",
    "\n",
    "We would also like to scale the values, as it will provide us with better results"
   ]
  },
  {
   "cell_type": "code",
   "execution_count": 172,
   "metadata": {},
   "outputs": [
    {
     "data": {
      "text/plain": [
       "CreditScore          int64\n",
       "Geography           object\n",
       "Gender              object\n",
       "Age                  int64\n",
       "Tenure               int64\n",
       "Balance            float64\n",
       "NumOfProducts        int64\n",
       "HasCrCard            int64\n",
       "IsActiveMember       int64\n",
       "EstimatedSalary    float64\n",
       "Exited               int64\n",
       "dtype: object"
      ]
     },
     "execution_count": 172,
     "metadata": {},
     "output_type": "execute_result"
    }
   ],
   "source": [
    "df.dtypes"
   ]
  },
  {
   "cell_type": "code",
   "execution_count": 173,
   "metadata": {},
   "outputs": [
    {
     "name": "stdout",
     "output_type": "stream",
     "text": [
      "CreditScore : [619 608 502 699 850 645 822 376 501 684 528 497 476 549 635 616 653 587\n",
      " 726 732 636 510 669 846 577 756 571 574 411 591 533 553 520 722 475 490\n",
      " 804 582 472 465 556 834 660 776 829 637 550 698 585 788 655 601 656 725\n",
      " 511 614 742 687 555 603 751 581 735 661 675 738 813 657 604 519 664 678\n",
      " 757 416 665 777 543 506 493 652 750 729 646 647 808 524 769 730 515 773\n",
      " 814 710 413 623 670 622 785 605 479 685 538 562 721 628 668 828 674 625\n",
      " 432 770 758 795 686 789 589 461 584 579 663 682 793 691 485 650 754 535\n",
      " 716 539 706 586 631 717 800 683 704 615 667 484 480 578 512 606 597 778\n",
      " 514 525 715 580 807 521 759 516 711 618 643 671 689 620 676 572 695 592\n",
      " 567 694 547 594 673 610 767 763 712 703 662 659 523 772 545 634 739 771\n",
      " 681 544 696 766 727 693 557 531 498 651 791 733 811 707 714 782 775 799\n",
      " 602 744 588 747 583 627 731 629 438 642 806 474 559 429 680 749 734 644\n",
      " 626 649 805 718 840 630 654 762 568 613 522 737 648 443 640 540 460 593\n",
      " 801 611 802 745 483 690 492 709 705 560 752 701 537 487 596 702 486 724\n",
      " 548 464 790 534 748 494 590 468 509 818 816 536 753 774 621 569 658 798\n",
      " 641 542 692 639 765 570 638 599 632 779 527 564 833 504 842 508 417 598\n",
      " 741 607 761 848 546 439 755 760 526 713 700 666 566 495 688 612 477 427\n",
      " 839 819 720 459 503 624 529 563 482 796 445 746 786 554 672 787 499 844\n",
      " 450 815 838 803 736 633 600 679 517 792 743 488 421 841 708 507 505 456\n",
      " 435 561 518 565 728 784 552 609 764 697 723 551 444 719 496 541 830 812\n",
      " 677 420 595 617 809 500 826 434 513 478 797 363 399 463 780 452 575 837\n",
      " 794 824 428 823 781 849 489 431 457 768 831 359 820 573 576 558 817 449\n",
      " 440 415 821 530 350 446 425 740 481 783 358 845 451 458 469 423 404 836\n",
      " 473 835 466 491 351 827 843 365 532 414 453 471 401 810 832 470 447 422\n",
      " 825 430 436 426 408 847 418 437 410 454 407 455 462 386 405 383 395 467\n",
      " 433 442 424 448 441 367 412 382 373 419]\n",
      "Geography : ['France' 'Spain' 'Germany']\n",
      "Gender : ['Female' 'Male']\n",
      "Age : [42 41 39 43 44 50 29 27 31 24 34 25 35 45 58 32 38 46 36 33 40 51 61 49\n",
      " 37 19 66 56 26 21 55 75 22 30 28 65 48 52 57 73 47 54 72 20 67 79 62 53\n",
      " 80 59 68 23 60 70 63 64 18 82 69 74 71 76 77 88 85 84 78 81 92 83]\n",
      "Tenure : [ 2  1  8  7  4  6  3 10  5  9  0]\n",
      "Balance : [     0.    83807.86 159660.8  ...  57369.61  75075.31 130142.79]\n",
      "NumOfProducts : [1 3 2 4]\n",
      "HasCrCard : [1 0]\n",
      "IsActiveMember : [1 0]\n",
      "EstimatedSalary : [101348.88 112542.58 113931.57 ...  42085.58  92888.52  38190.78]\n",
      "Exited : [1 0]\n"
     ]
    }
   ],
   "source": [
    "for column in df:\n",
    "    print(f'{column} : {df[column].unique()}')"
   ]
  },
  {
   "cell_type": "markdown",
   "metadata": {},
   "source": [
    "Gender has only two unique values. We can convert it to numeric form by simply using 1 and 0.\n",
    "\n",
    "For Geography and NumberOfProducts, we will use one hot categorization"
   ]
  },
  {
   "cell_type": "code",
   "execution_count": 174,
   "metadata": {},
   "outputs": [],
   "source": [
    "df['Gender'].replace({\"Female\":1,\"Male\":0},inplace=True)"
   ]
  },
  {
   "cell_type": "code",
   "execution_count": 175,
   "metadata": {},
   "outputs": [],
   "source": [
    "df = pd.get_dummies(data=df, columns=['Geography','NumOfProducts'])"
   ]
  },
  {
   "cell_type": "code",
   "execution_count": 176,
   "metadata": {},
   "outputs": [
    {
     "name": "stdout",
     "output_type": "stream",
     "text": [
      "CreditScore : [619 608 502 699 850 645 822 376 501 684 528 497 476 549 635 616 653 587\n",
      " 726 732 636 510 669 846 577 756 571 574 411 591 533 553 520 722 475 490\n",
      " 804 582 472 465 556 834 660 776 829 637 550 698 585 788 655 601 656 725\n",
      " 511 614 742 687 555 603 751 581 735 661 675 738 813 657 604 519 664 678\n",
      " 757 416 665 777 543 506 493 652 750 729 646 647 808 524 769 730 515 773\n",
      " 814 710 413 623 670 622 785 605 479 685 538 562 721 628 668 828 674 625\n",
      " 432 770 758 795 686 789 589 461 584 579 663 682 793 691 485 650 754 535\n",
      " 716 539 706 586 631 717 800 683 704 615 667 484 480 578 512 606 597 778\n",
      " 514 525 715 580 807 521 759 516 711 618 643 671 689 620 676 572 695 592\n",
      " 567 694 547 594 673 610 767 763 712 703 662 659 523 772 545 634 739 771\n",
      " 681 544 696 766 727 693 557 531 498 651 791 733 811 707 714 782 775 799\n",
      " 602 744 588 747 583 627 731 629 438 642 806 474 559 429 680 749 734 644\n",
      " 626 649 805 718 840 630 654 762 568 613 522 737 648 443 640 540 460 593\n",
      " 801 611 802 745 483 690 492 709 705 560 752 701 537 487 596 702 486 724\n",
      " 548 464 790 534 748 494 590 468 509 818 816 536 753 774 621 569 658 798\n",
      " 641 542 692 639 765 570 638 599 632 779 527 564 833 504 842 508 417 598\n",
      " 741 607 761 848 546 439 755 760 526 713 700 666 566 495 688 612 477 427\n",
      " 839 819 720 459 503 624 529 563 482 796 445 746 786 554 672 787 499 844\n",
      " 450 815 838 803 736 633 600 679 517 792 743 488 421 841 708 507 505 456\n",
      " 435 561 518 565 728 784 552 609 764 697 723 551 444 719 496 541 830 812\n",
      " 677 420 595 617 809 500 826 434 513 478 797 363 399 463 780 452 575 837\n",
      " 794 824 428 823 781 849 489 431 457 768 831 359 820 573 576 558 817 449\n",
      " 440 415 821 530 350 446 425 740 481 783 358 845 451 458 469 423 404 836\n",
      " 473 835 466 491 351 827 843 365 532 414 453 471 401 810 832 470 447 422\n",
      " 825 430 436 426 408 847 418 437 410 454 407 455 462 386 405 383 395 467\n",
      " 433 442 424 448 441 367 412 382 373 419]\n",
      "Gender : [1 0]\n",
      "Age : [42 41 39 43 44 50 29 27 31 24 34 25 35 45 58 32 38 46 36 33 40 51 61 49\n",
      " 37 19 66 56 26 21 55 75 22 30 28 65 48 52 57 73 47 54 72 20 67 79 62 53\n",
      " 80 59 68 23 60 70 63 64 18 82 69 74 71 76 77 88 85 84 78 81 92 83]\n",
      "Tenure : [ 2  1  8  7  4  6  3 10  5  9  0]\n",
      "Balance : [     0.    83807.86 159660.8  ...  57369.61  75075.31 130142.79]\n",
      "HasCrCard : [1 0]\n",
      "IsActiveMember : [1 0]\n",
      "EstimatedSalary : [101348.88 112542.58 113931.57 ...  42085.58  92888.52  38190.78]\n",
      "Exited : [1 0]\n",
      "Geography_France : [1 0]\n",
      "Geography_Germany : [0 1]\n",
      "Geography_Spain : [0 1]\n",
      "NumOfProducts_1 : [1 0]\n",
      "NumOfProducts_2 : [0 1]\n",
      "NumOfProducts_3 : [0 1]\n",
      "NumOfProducts_4 : [0 1]\n"
     ]
    }
   ],
   "source": [
    "for column in df:\n",
    "    print(f'{column} : {df[column].unique()}')"
   ]
  },
  {
   "cell_type": "code",
   "execution_count": 177,
   "metadata": {},
   "outputs": [
    {
     "data": {
      "text/html": [
       "<div>\n",
       "<style scoped>\n",
       "    .dataframe tbody tr th:only-of-type {\n",
       "        vertical-align: middle;\n",
       "    }\n",
       "\n",
       "    .dataframe tbody tr th {\n",
       "        vertical-align: top;\n",
       "    }\n",
       "\n",
       "    .dataframe thead th {\n",
       "        text-align: right;\n",
       "    }\n",
       "</style>\n",
       "<table border=\"1\" class=\"dataframe\">\n",
       "  <thead>\n",
       "    <tr style=\"text-align: right;\">\n",
       "      <th></th>\n",
       "      <th>CreditScore</th>\n",
       "      <th>Gender</th>\n",
       "      <th>Age</th>\n",
       "      <th>Tenure</th>\n",
       "      <th>Balance</th>\n",
       "      <th>HasCrCard</th>\n",
       "      <th>IsActiveMember</th>\n",
       "      <th>EstimatedSalary</th>\n",
       "      <th>Exited</th>\n",
       "      <th>Geography_France</th>\n",
       "      <th>Geography_Germany</th>\n",
       "      <th>Geography_Spain</th>\n",
       "      <th>NumOfProducts_1</th>\n",
       "      <th>NumOfProducts_2</th>\n",
       "      <th>NumOfProducts_3</th>\n",
       "      <th>NumOfProducts_4</th>\n",
       "    </tr>\n",
       "  </thead>\n",
       "  <tbody>\n",
       "    <tr>\n",
       "      <th>7670</th>\n",
       "      <td>576</td>\n",
       "      <td>1</td>\n",
       "      <td>29</td>\n",
       "      <td>5</td>\n",
       "      <td>108541.04</td>\n",
       "      <td>1</td>\n",
       "      <td>1</td>\n",
       "      <td>126469.09</td>\n",
       "      <td>0</td>\n",
       "      <td>1</td>\n",
       "      <td>0</td>\n",
       "      <td>0</td>\n",
       "      <td>1</td>\n",
       "      <td>0</td>\n",
       "      <td>0</td>\n",
       "      <td>0</td>\n",
       "    </tr>\n",
       "    <tr>\n",
       "      <th>8780</th>\n",
       "      <td>820</td>\n",
       "      <td>0</td>\n",
       "      <td>39</td>\n",
       "      <td>9</td>\n",
       "      <td>111336.89</td>\n",
       "      <td>1</td>\n",
       "      <td>0</td>\n",
       "      <td>16770.31</td>\n",
       "      <td>1</td>\n",
       "      <td>0</td>\n",
       "      <td>1</td>\n",
       "      <td>0</td>\n",
       "      <td>1</td>\n",
       "      <td>0</td>\n",
       "      <td>0</td>\n",
       "      <td>0</td>\n",
       "    </tr>\n",
       "    <tr>\n",
       "      <th>9627</th>\n",
       "      <td>641</td>\n",
       "      <td>0</td>\n",
       "      <td>31</td>\n",
       "      <td>3</td>\n",
       "      <td>153316.14</td>\n",
       "      <td>1</td>\n",
       "      <td>0</td>\n",
       "      <td>59927.99</td>\n",
       "      <td>0</td>\n",
       "      <td>0</td>\n",
       "      <td>0</td>\n",
       "      <td>1</td>\n",
       "      <td>1</td>\n",
       "      <td>0</td>\n",
       "      <td>0</td>\n",
       "      <td>0</td>\n",
       "    </tr>\n",
       "    <tr>\n",
       "      <th>2901</th>\n",
       "      <td>498</td>\n",
       "      <td>0</td>\n",
       "      <td>73</td>\n",
       "      <td>2</td>\n",
       "      <td>170241.70</td>\n",
       "      <td>1</td>\n",
       "      <td>1</td>\n",
       "      <td>165407.96</td>\n",
       "      <td>0</td>\n",
       "      <td>1</td>\n",
       "      <td>0</td>\n",
       "      <td>0</td>\n",
       "      <td>0</td>\n",
       "      <td>1</td>\n",
       "      <td>0</td>\n",
       "      <td>0</td>\n",
       "    </tr>\n",
       "    <tr>\n",
       "      <th>6779</th>\n",
       "      <td>535</td>\n",
       "      <td>0</td>\n",
       "      <td>38</td>\n",
       "      <td>2</td>\n",
       "      <td>119272.29</td>\n",
       "      <td>0</td>\n",
       "      <td>0</td>\n",
       "      <td>195896.59</td>\n",
       "      <td>1</td>\n",
       "      <td>1</td>\n",
       "      <td>0</td>\n",
       "      <td>0</td>\n",
       "      <td>1</td>\n",
       "      <td>0</td>\n",
       "      <td>0</td>\n",
       "      <td>0</td>\n",
       "    </tr>\n",
       "  </tbody>\n",
       "</table>\n",
       "</div>"
      ],
      "text/plain": [
       "      CreditScore  Gender  Age  Tenure    Balance  HasCrCard  IsActiveMember  \\\n",
       "7670          576       1   29       5  108541.04          1               1   \n",
       "8780          820       0   39       9  111336.89          1               0   \n",
       "9627          641       0   31       3  153316.14          1               0   \n",
       "2901          498       0   73       2  170241.70          1               1   \n",
       "6779          535       0   38       2  119272.29          0               0   \n",
       "\n",
       "      EstimatedSalary  Exited  Geography_France  Geography_Germany  \\\n",
       "7670        126469.09       0                 1                  0   \n",
       "8780         16770.31       1                 0                  1   \n",
       "9627         59927.99       0                 0                  0   \n",
       "2901        165407.96       0                 1                  0   \n",
       "6779        195896.59       1                 1                  0   \n",
       "\n",
       "      Geography_Spain  NumOfProducts_1  NumOfProducts_2  NumOfProducts_3  \\\n",
       "7670                0                1                0                0   \n",
       "8780                0                1                0                0   \n",
       "9627                1                1                0                0   \n",
       "2901                0                0                1                0   \n",
       "6779                0                1                0                0   \n",
       "\n",
       "      NumOfProducts_4  \n",
       "7670                0  \n",
       "8780                0  \n",
       "9627                0  \n",
       "2901                0  \n",
       "6779                0  "
      ]
     },
     "execution_count": 177,
     "metadata": {},
     "output_type": "execute_result"
    }
   ],
   "source": [
    "df.sample(5)"
   ]
  },
  {
   "cell_type": "code",
   "execution_count": 178,
   "metadata": {},
   "outputs": [],
   "source": [
    "cols_to_scale = ['CreditScore','Age','Tenure','Balance','EstimatedSalary'] #The columns that we need to scale\n",
    "\n",
    "#We are using MinMaxScaler from scikit-learn library for this purpose\n",
    "from sklearn.preprocessing import MinMaxScaler\n",
    "scaler = MinMaxScaler()\n",
    "\n",
    "df[cols_to_scale] = scaler.fit_transform(df[cols_to_scale])"
   ]
  },
  {
   "cell_type": "code",
   "execution_count": 179,
   "metadata": {},
   "outputs": [
    {
     "data": {
      "text/html": [
       "<div>\n",
       "<style scoped>\n",
       "    .dataframe tbody tr th:only-of-type {\n",
       "        vertical-align: middle;\n",
       "    }\n",
       "\n",
       "    .dataframe tbody tr th {\n",
       "        vertical-align: top;\n",
       "    }\n",
       "\n",
       "    .dataframe thead th {\n",
       "        text-align: right;\n",
       "    }\n",
       "</style>\n",
       "<table border=\"1\" class=\"dataframe\">\n",
       "  <thead>\n",
       "    <tr style=\"text-align: right;\">\n",
       "      <th></th>\n",
       "      <th>CreditScore</th>\n",
       "      <th>Gender</th>\n",
       "      <th>Age</th>\n",
       "      <th>Tenure</th>\n",
       "      <th>Balance</th>\n",
       "      <th>HasCrCard</th>\n",
       "      <th>IsActiveMember</th>\n",
       "      <th>EstimatedSalary</th>\n",
       "      <th>Exited</th>\n",
       "      <th>Geography_France</th>\n",
       "      <th>Geography_Germany</th>\n",
       "      <th>Geography_Spain</th>\n",
       "      <th>NumOfProducts_1</th>\n",
       "      <th>NumOfProducts_2</th>\n",
       "      <th>NumOfProducts_3</th>\n",
       "      <th>NumOfProducts_4</th>\n",
       "    </tr>\n",
       "  </thead>\n",
       "  <tbody>\n",
       "    <tr>\n",
       "      <th>6733</th>\n",
       "      <td>0.636</td>\n",
       "      <td>0</td>\n",
       "      <td>0.135135</td>\n",
       "      <td>0.4</td>\n",
       "      <td>0.427031</td>\n",
       "      <td>1</td>\n",
       "      <td>0</td>\n",
       "      <td>0.965128</td>\n",
       "      <td>0</td>\n",
       "      <td>1</td>\n",
       "      <td>0</td>\n",
       "      <td>0</td>\n",
       "      <td>1</td>\n",
       "      <td>0</td>\n",
       "      <td>0</td>\n",
       "      <td>0</td>\n",
       "    </tr>\n",
       "    <tr>\n",
       "      <th>3192</th>\n",
       "      <td>0.408</td>\n",
       "      <td>0</td>\n",
       "      <td>0.648649</td>\n",
       "      <td>0.8</td>\n",
       "      <td>0.000000</td>\n",
       "      <td>1</td>\n",
       "      <td>1</td>\n",
       "      <td>0.583736</td>\n",
       "      <td>0</td>\n",
       "      <td>0</td>\n",
       "      <td>0</td>\n",
       "      <td>1</td>\n",
       "      <td>0</td>\n",
       "      <td>1</td>\n",
       "      <td>0</td>\n",
       "      <td>0</td>\n",
       "    </tr>\n",
       "    <tr>\n",
       "      <th>8846</th>\n",
       "      <td>0.442</td>\n",
       "      <td>1</td>\n",
       "      <td>0.472973</td>\n",
       "      <td>0.2</td>\n",
       "      <td>0.000000</td>\n",
       "      <td>1</td>\n",
       "      <td>0</td>\n",
       "      <td>0.140184</td>\n",
       "      <td>0</td>\n",
       "      <td>1</td>\n",
       "      <td>0</td>\n",
       "      <td>0</td>\n",
       "      <td>0</td>\n",
       "      <td>1</td>\n",
       "      <td>0</td>\n",
       "      <td>0</td>\n",
       "    </tr>\n",
       "    <tr>\n",
       "      <th>2206</th>\n",
       "      <td>0.518</td>\n",
       "      <td>0</td>\n",
       "      <td>0.216216</td>\n",
       "      <td>0.1</td>\n",
       "      <td>0.000000</td>\n",
       "      <td>1</td>\n",
       "      <td>1</td>\n",
       "      <td>0.905918</td>\n",
       "      <td>0</td>\n",
       "      <td>1</td>\n",
       "      <td>0</td>\n",
       "      <td>0</td>\n",
       "      <td>1</td>\n",
       "      <td>0</td>\n",
       "      <td>0</td>\n",
       "      <td>0</td>\n",
       "    </tr>\n",
       "    <tr>\n",
       "      <th>2908</th>\n",
       "      <td>0.288</td>\n",
       "      <td>0</td>\n",
       "      <td>0.689189</td>\n",
       "      <td>0.9</td>\n",
       "      <td>0.371947</td>\n",
       "      <td>1</td>\n",
       "      <td>1</td>\n",
       "      <td>0.122401</td>\n",
       "      <td>0</td>\n",
       "      <td>1</td>\n",
       "      <td>0</td>\n",
       "      <td>0</td>\n",
       "      <td>1</td>\n",
       "      <td>0</td>\n",
       "      <td>0</td>\n",
       "      <td>0</td>\n",
       "    </tr>\n",
       "  </tbody>\n",
       "</table>\n",
       "</div>"
      ],
      "text/plain": [
       "      CreditScore  Gender       Age  Tenure   Balance  HasCrCard  \\\n",
       "6733        0.636       0  0.135135     0.4  0.427031          1   \n",
       "3192        0.408       0  0.648649     0.8  0.000000          1   \n",
       "8846        0.442       1  0.472973     0.2  0.000000          1   \n",
       "2206        0.518       0  0.216216     0.1  0.000000          1   \n",
       "2908        0.288       0  0.689189     0.9  0.371947          1   \n",
       "\n",
       "      IsActiveMember  EstimatedSalary  Exited  Geography_France  \\\n",
       "6733               0         0.965128       0                 1   \n",
       "3192               1         0.583736       0                 0   \n",
       "8846               0         0.140184       0                 1   \n",
       "2206               1         0.905918       0                 1   \n",
       "2908               1         0.122401       0                 1   \n",
       "\n",
       "      Geography_Germany  Geography_Spain  NumOfProducts_1  NumOfProducts_2  \\\n",
       "6733                  0                0                1                0   \n",
       "3192                  0                1                0                1   \n",
       "8846                  0                0                0                1   \n",
       "2206                  0                0                1                0   \n",
       "2908                  0                0                1                0   \n",
       "\n",
       "      NumOfProducts_3  NumOfProducts_4  \n",
       "6733                0                0  \n",
       "3192                0                0  \n",
       "8846                0                0  \n",
       "2206                0                0  \n",
       "2908                0                0  "
      ]
     },
     "execution_count": 179,
     "metadata": {},
     "output_type": "execute_result"
    }
   ],
   "source": [
    "df.sample(5)"
   ]
  },
  {
   "cell_type": "markdown",
   "metadata": {},
   "source": [
    "Nice, now all the values are scaled and numeric.\n",
    "\n",
    "Let's head on to building and training our model now."
   ]
  },
  {
   "cell_type": "markdown",
   "metadata": {},
   "source": [
    "## Train-Test Split"
   ]
  },
  {
   "cell_type": "code",
   "execution_count": 180,
   "metadata": {},
   "outputs": [],
   "source": [
    "X= df.drop('Exited',axis=1)\n",
    "y=df.Exited"
   ]
  },
  {
   "cell_type": "code",
   "execution_count": 181,
   "metadata": {},
   "outputs": [
    {
     "data": {
      "text/html": [
       "<div>\n",
       "<style scoped>\n",
       "    .dataframe tbody tr th:only-of-type {\n",
       "        vertical-align: middle;\n",
       "    }\n",
       "\n",
       "    .dataframe tbody tr th {\n",
       "        vertical-align: top;\n",
       "    }\n",
       "\n",
       "    .dataframe thead th {\n",
       "        text-align: right;\n",
       "    }\n",
       "</style>\n",
       "<table border=\"1\" class=\"dataframe\">\n",
       "  <thead>\n",
       "    <tr style=\"text-align: right;\">\n",
       "      <th></th>\n",
       "      <th>CreditScore</th>\n",
       "      <th>Gender</th>\n",
       "      <th>Age</th>\n",
       "      <th>Tenure</th>\n",
       "      <th>Balance</th>\n",
       "      <th>HasCrCard</th>\n",
       "      <th>IsActiveMember</th>\n",
       "      <th>EstimatedSalary</th>\n",
       "      <th>Geography_France</th>\n",
       "      <th>Geography_Germany</th>\n",
       "      <th>Geography_Spain</th>\n",
       "      <th>NumOfProducts_1</th>\n",
       "      <th>NumOfProducts_2</th>\n",
       "      <th>NumOfProducts_3</th>\n",
       "      <th>NumOfProducts_4</th>\n",
       "    </tr>\n",
       "  </thead>\n",
       "  <tbody>\n",
       "    <tr>\n",
       "      <th>0</th>\n",
       "      <td>0.538</td>\n",
       "      <td>1</td>\n",
       "      <td>0.324324</td>\n",
       "      <td>0.2</td>\n",
       "      <td>0.000000</td>\n",
       "      <td>1</td>\n",
       "      <td>1</td>\n",
       "      <td>0.506735</td>\n",
       "      <td>1</td>\n",
       "      <td>0</td>\n",
       "      <td>0</td>\n",
       "      <td>1</td>\n",
       "      <td>0</td>\n",
       "      <td>0</td>\n",
       "      <td>0</td>\n",
       "    </tr>\n",
       "    <tr>\n",
       "      <th>1</th>\n",
       "      <td>0.516</td>\n",
       "      <td>1</td>\n",
       "      <td>0.310811</td>\n",
       "      <td>0.1</td>\n",
       "      <td>0.334031</td>\n",
       "      <td>0</td>\n",
       "      <td>1</td>\n",
       "      <td>0.562709</td>\n",
       "      <td>0</td>\n",
       "      <td>0</td>\n",
       "      <td>1</td>\n",
       "      <td>1</td>\n",
       "      <td>0</td>\n",
       "      <td>0</td>\n",
       "      <td>0</td>\n",
       "    </tr>\n",
       "    <tr>\n",
       "      <th>2</th>\n",
       "      <td>0.304</td>\n",
       "      <td>1</td>\n",
       "      <td>0.324324</td>\n",
       "      <td>0.8</td>\n",
       "      <td>0.636357</td>\n",
       "      <td>1</td>\n",
       "      <td>0</td>\n",
       "      <td>0.569654</td>\n",
       "      <td>1</td>\n",
       "      <td>0</td>\n",
       "      <td>0</td>\n",
       "      <td>0</td>\n",
       "      <td>0</td>\n",
       "      <td>1</td>\n",
       "      <td>0</td>\n",
       "    </tr>\n",
       "    <tr>\n",
       "      <th>3</th>\n",
       "      <td>0.698</td>\n",
       "      <td>1</td>\n",
       "      <td>0.283784</td>\n",
       "      <td>0.1</td>\n",
       "      <td>0.000000</td>\n",
       "      <td>0</td>\n",
       "      <td>0</td>\n",
       "      <td>0.469120</td>\n",
       "      <td>1</td>\n",
       "      <td>0</td>\n",
       "      <td>0</td>\n",
       "      <td>0</td>\n",
       "      <td>1</td>\n",
       "      <td>0</td>\n",
       "      <td>0</td>\n",
       "    </tr>\n",
       "    <tr>\n",
       "      <th>4</th>\n",
       "      <td>1.000</td>\n",
       "      <td>1</td>\n",
       "      <td>0.337838</td>\n",
       "      <td>0.2</td>\n",
       "      <td>0.500246</td>\n",
       "      <td>1</td>\n",
       "      <td>1</td>\n",
       "      <td>0.395400</td>\n",
       "      <td>0</td>\n",
       "      <td>0</td>\n",
       "      <td>1</td>\n",
       "      <td>1</td>\n",
       "      <td>0</td>\n",
       "      <td>0</td>\n",
       "      <td>0</td>\n",
       "    </tr>\n",
       "  </tbody>\n",
       "</table>\n",
       "</div>"
      ],
      "text/plain": [
       "   CreditScore  Gender       Age  Tenure   Balance  HasCrCard  IsActiveMember  \\\n",
       "0        0.538       1  0.324324     0.2  0.000000          1               1   \n",
       "1        0.516       1  0.310811     0.1  0.334031          0               1   \n",
       "2        0.304       1  0.324324     0.8  0.636357          1               0   \n",
       "3        0.698       1  0.283784     0.1  0.000000          0               0   \n",
       "4        1.000       1  0.337838     0.2  0.500246          1               1   \n",
       "\n",
       "   EstimatedSalary  Geography_France  Geography_Germany  Geography_Spain  \\\n",
       "0         0.506735                 1                  0                0   \n",
       "1         0.562709                 0                  0                1   \n",
       "2         0.569654                 1                  0                0   \n",
       "3         0.469120                 1                  0                0   \n",
       "4         0.395400                 0                  0                1   \n",
       "\n",
       "   NumOfProducts_1  NumOfProducts_2  NumOfProducts_3  NumOfProducts_4  \n",
       "0                1                0                0                0  \n",
       "1                1                0                0                0  \n",
       "2                0                0                1                0  \n",
       "3                0                1                0                0  \n",
       "4                1                0                0                0  "
      ]
     },
     "execution_count": 181,
     "metadata": {},
     "output_type": "execute_result"
    }
   ],
   "source": [
    "X.head()"
   ]
  },
  {
   "cell_type": "code",
   "execution_count": 182,
   "metadata": {},
   "outputs": [
    {
     "data": {
      "text/plain": [
       "0    1\n",
       "1    0\n",
       "2    1\n",
       "3    0\n",
       "4    0\n",
       "Name: Exited, dtype: int64"
      ]
     },
     "execution_count": 182,
     "metadata": {},
     "output_type": "execute_result"
    }
   ],
   "source": [
    "y.head()"
   ]
  },
  {
   "cell_type": "code",
   "execution_count": 183,
   "metadata": {},
   "outputs": [],
   "source": [
    "from sklearn.model_selection import train_test_split\n",
    "\n",
    "X_train, X_test,y_train,y_test = train_test_split(X,y,test_size=0.33,random_state=42)"
   ]
  },
  {
   "cell_type": "code",
   "execution_count": 184,
   "metadata": {},
   "outputs": [
    {
     "data": {
      "text/html": [
       "<div>\n",
       "<style scoped>\n",
       "    .dataframe tbody tr th:only-of-type {\n",
       "        vertical-align: middle;\n",
       "    }\n",
       "\n",
       "    .dataframe tbody tr th {\n",
       "        vertical-align: top;\n",
       "    }\n",
       "\n",
       "    .dataframe thead th {\n",
       "        text-align: right;\n",
       "    }\n",
       "</style>\n",
       "<table border=\"1\" class=\"dataframe\">\n",
       "  <thead>\n",
       "    <tr style=\"text-align: right;\">\n",
       "      <th></th>\n",
       "      <th>CreditScore</th>\n",
       "      <th>Gender</th>\n",
       "      <th>Age</th>\n",
       "      <th>Tenure</th>\n",
       "      <th>Balance</th>\n",
       "      <th>HasCrCard</th>\n",
       "      <th>IsActiveMember</th>\n",
       "      <th>EstimatedSalary</th>\n",
       "      <th>Geography_France</th>\n",
       "      <th>Geography_Germany</th>\n",
       "      <th>Geography_Spain</th>\n",
       "      <th>NumOfProducts_1</th>\n",
       "      <th>NumOfProducts_2</th>\n",
       "      <th>NumOfProducts_3</th>\n",
       "      <th>NumOfProducts_4</th>\n",
       "    </tr>\n",
       "  </thead>\n",
       "  <tbody>\n",
       "    <tr>\n",
       "      <th>4095</th>\n",
       "      <td>0.760</td>\n",
       "      <td>0</td>\n",
       "      <td>0.594595</td>\n",
       "      <td>0.5</td>\n",
       "      <td>0.447118</td>\n",
       "      <td>0</td>\n",
       "      <td>1</td>\n",
       "      <td>0.307541</td>\n",
       "      <td>0</td>\n",
       "      <td>0</td>\n",
       "      <td>1</td>\n",
       "      <td>1</td>\n",
       "      <td>0</td>\n",
       "      <td>0</td>\n",
       "      <td>0</td>\n",
       "    </tr>\n",
       "    <tr>\n",
       "      <th>2501</th>\n",
       "      <td>0.682</td>\n",
       "      <td>1</td>\n",
       "      <td>0.270270</td>\n",
       "      <td>0.5</td>\n",
       "      <td>0.457372</td>\n",
       "      <td>1</td>\n",
       "      <td>0</td>\n",
       "      <td>0.538319</td>\n",
       "      <td>0</td>\n",
       "      <td>1</td>\n",
       "      <td>0</td>\n",
       "      <td>1</td>\n",
       "      <td>0</td>\n",
       "      <td>0</td>\n",
       "      <td>0</td>\n",
       "    </tr>\n",
       "    <tr>\n",
       "      <th>3903</th>\n",
       "      <td>0.586</td>\n",
       "      <td>1</td>\n",
       "      <td>0.364865</td>\n",
       "      <td>0.9</td>\n",
       "      <td>0.601200</td>\n",
       "      <td>1</td>\n",
       "      <td>0</td>\n",
       "      <td>0.777598</td>\n",
       "      <td>0</td>\n",
       "      <td>0</td>\n",
       "      <td>1</td>\n",
       "      <td>0</td>\n",
       "      <td>1</td>\n",
       "      <td>0</td>\n",
       "      <td>0</td>\n",
       "    </tr>\n",
       "    <tr>\n",
       "      <th>2282</th>\n",
       "      <td>0.444</td>\n",
       "      <td>0</td>\n",
       "      <td>0.256757</td>\n",
       "      <td>0.1</td>\n",
       "      <td>0.530270</td>\n",
       "      <td>0</td>\n",
       "      <td>0</td>\n",
       "      <td>0.556211</td>\n",
       "      <td>1</td>\n",
       "      <td>0</td>\n",
       "      <td>0</td>\n",
       "      <td>1</td>\n",
       "      <td>0</td>\n",
       "      <td>0</td>\n",
       "      <td>0</td>\n",
       "    </tr>\n",
       "  </tbody>\n",
       "</table>\n",
       "</div>"
      ],
      "text/plain": [
       "      CreditScore  Gender       Age  Tenure   Balance  HasCrCard  \\\n",
       "4095        0.760       0  0.594595     0.5  0.447118          0   \n",
       "2501        0.682       1  0.270270     0.5  0.457372          1   \n",
       "3903        0.586       1  0.364865     0.9  0.601200          1   \n",
       "2282        0.444       0  0.256757     0.1  0.530270          0   \n",
       "\n",
       "      IsActiveMember  EstimatedSalary  Geography_France  Geography_Germany  \\\n",
       "4095               1         0.307541                 0                  0   \n",
       "2501               0         0.538319                 0                  1   \n",
       "3903               0         0.777598                 0                  0   \n",
       "2282               0         0.556211                 1                  0   \n",
       "\n",
       "      Geography_Spain  NumOfProducts_1  NumOfProducts_2  NumOfProducts_3  \\\n",
       "4095                1                1                0                0   \n",
       "2501                0                1                0                0   \n",
       "3903                1                0                1                0   \n",
       "2282                0                1                0                0   \n",
       "\n",
       "      NumOfProducts_4  \n",
       "4095                0  \n",
       "2501                0  \n",
       "3903                0  \n",
       "2282                0  "
      ]
     },
     "execution_count": 184,
     "metadata": {},
     "output_type": "execute_result"
    }
   ],
   "source": [
    "#Let's take a look atour training dataset\n",
    "X_train.sample(4)"
   ]
  },
  {
   "cell_type": "code",
   "execution_count": 185,
   "metadata": {},
   "outputs": [
    {
     "data": {
      "text/plain": [
       "5283    0\n",
       "5260    0\n",
       "7055    0\n",
       "739     0\n",
       "Name: Exited, dtype: int64"
      ]
     },
     "execution_count": 185,
     "metadata": {},
     "output_type": "execute_result"
    }
   ],
   "source": [
    "y_train.sample(4)"
   ]
  },
  {
   "cell_type": "markdown",
   "metadata": {},
   "source": [
    "## Building and Training the model"
   ]
  },
  {
   "cell_type": "code",
   "execution_count": 186,
   "metadata": {},
   "outputs": [
    {
     "data": {
      "text/plain": [
       "(6700, 15)"
      ]
     },
     "execution_count": 186,
     "metadata": {},
     "output_type": "execute_result"
    }
   ],
   "source": [
    "X_train.shape"
   ]
  },
  {
   "cell_type": "code",
   "execution_count": 208,
   "metadata": {},
   "outputs": [],
   "source": [
    "import tensorflow as tf\n",
    "from tensorflow import keras\n",
    "from sklearn.metrics import confusion_matrix,classification_report"
   ]
  },
  {
   "cell_type": "code",
   "execution_count": 209,
   "metadata": {},
   "outputs": [],
   "source": [
    "def ANN(X_train, y_train,X_test,y_test,epochs,loss):\n",
    "    model = keras.Sequential([\n",
    "    keras.layers.Dense(500,input_shape=(15,),activation='relu'),\n",
    "    keras.layers.Dense(300,activation='relu'),\n",
    "    keras.layers.Dense(1,activation='sigmoid')\n",
    "    ])\n",
    "\n",
    "    model.compile(\n",
    "    optimizer='adam',\n",
    "    loss=loss,\n",
    "    metrics=['accuracy']\n",
    "    )\n",
    "\n",
    "    model.fit(X_train,y_train,epochs=epochs)\n",
    "    print(\"Predicting...\\n\")\n",
    "    yp = model.predict(X_test)\n",
    "    y_pred=np.round(yp)\n",
    "    \n",
    "    print(classification_report(y_test,y_pred))"
   ]
  },
  {
   "cell_type": "code",
   "execution_count": null,
   "metadata": {},
   "outputs": [],
   "source": []
  },
  {
   "cell_type": "code",
   "execution_count": 189,
   "metadata": {},
   "outputs": [
    {
     "name": "stdout",
     "output_type": "stream",
     "text": [
      "Epoch 1/80\n",
      "210/210 [==============================] - 0s 851us/step - loss: 0.4139 - accuracy: 0.8222\n",
      "Epoch 2/80\n",
      "210/210 [==============================] - 0s 857us/step - loss: 0.3713 - accuracy: 0.8434\n",
      "Epoch 3/80\n",
      "210/210 [==============================] - 0s 845us/step - loss: 0.3610 - accuracy: 0.8475\n",
      "Epoch 4/80\n",
      "210/210 [==============================] - 0s 831us/step - loss: 0.3616 - accuracy: 0.8463\n",
      "Epoch 5/80\n",
      "210/210 [==============================] - 0s 860us/step - loss: 0.3533 - accuracy: 0.8518\n",
      "Epoch 6/80\n",
      "210/210 [==============================] - 0s 826us/step - loss: 0.3509 - accuracy: 0.8561\n",
      "Epoch 7/80\n",
      "210/210 [==============================] - 0s 834us/step - loss: 0.3475 - accuracy: 0.8549\n",
      "Epoch 8/80\n",
      "210/210 [==============================] - 0s 850us/step - loss: 0.3456 - accuracy: 0.8560\n",
      "Epoch 9/80\n",
      "210/210 [==============================] - 0s 827us/step - loss: 0.3407 - accuracy: 0.8563\n",
      "Epoch 10/80\n",
      "210/210 [==============================] - 0s 821us/step - loss: 0.3374 - accuracy: 0.8572\n",
      "Epoch 11/80\n",
      "210/210 [==============================] - 0s 823us/step - loss: 0.3385 - accuracy: 0.8600\n",
      "Epoch 12/80\n",
      "210/210 [==============================] - 0s 838us/step - loss: 0.3328 - accuracy: 0.8619\n",
      "Epoch 13/80\n",
      "210/210 [==============================] - 0s 846us/step - loss: 0.3323 - accuracy: 0.8615\n",
      "Epoch 14/80\n",
      "210/210 [==============================] - 0s 862us/step - loss: 0.3308 - accuracy: 0.8631\n",
      "Epoch 15/80\n",
      "210/210 [==============================] - 0s 841us/step - loss: 0.3313 - accuracy: 0.8599\n",
      "Epoch 16/80\n",
      "210/210 [==============================] - 0s 858us/step - loss: 0.3272 - accuracy: 0.8667\n",
      "Epoch 17/80\n",
      "210/210 [==============================] - 0s 824us/step - loss: 0.3242 - accuracy: 0.8643\n",
      "Epoch 18/80\n",
      "210/210 [==============================] - 0s 836us/step - loss: 0.3225 - accuracy: 0.8678\n",
      "Epoch 19/80\n",
      "210/210 [==============================] - 0s 829us/step - loss: 0.3196 - accuracy: 0.8675\n",
      "Epoch 20/80\n",
      "210/210 [==============================] - 0s 830us/step - loss: 0.3200 - accuracy: 0.8670\n",
      "Epoch 21/80\n",
      "210/210 [==============================] - 0s 810us/step - loss: 0.3180 - accuracy: 0.8678\n",
      "Epoch 22/80\n",
      "210/210 [==============================] - 0s 811us/step - loss: 0.3147 - accuracy: 0.8704\n",
      "Epoch 23/80\n",
      "210/210 [==============================] - 0s 845us/step - loss: 0.3154 - accuracy: 0.8676\n",
      "Epoch 24/80\n",
      "210/210 [==============================] - 0s 834us/step - loss: 0.3151 - accuracy: 0.8652\n",
      "Epoch 25/80\n",
      "210/210 [==============================] - 0s 875us/step - loss: 0.3089 - accuracy: 0.8691\n",
      "Epoch 26/80\n",
      "210/210 [==============================] - 0s 856us/step - loss: 0.3070 - accuracy: 0.8690\n",
      "Epoch 27/80\n",
      "210/210 [==============================] - 0s 841us/step - loss: 0.3039 - accuracy: 0.8746\n",
      "Epoch 28/80\n",
      "210/210 [==============================] - 0s 851us/step - loss: 0.3050 - accuracy: 0.8709\n",
      "Epoch 29/80\n",
      "210/210 [==============================] - 0s 828us/step - loss: 0.3023 - accuracy: 0.8746\n",
      "Epoch 30/80\n",
      "210/210 [==============================] - 0s 838us/step - loss: 0.3012 - accuracy: 0.8718\n",
      "Epoch 31/80\n",
      "210/210 [==============================] - 0s 822us/step - loss: 0.2964 - accuracy: 0.8787\n",
      "Epoch 32/80\n",
      "210/210 [==============================] - 0s 830us/step - loss: 0.2949 - accuracy: 0.8746\n",
      "Epoch 33/80\n",
      "210/210 [==============================] - 0s 828us/step - loss: 0.2914 - accuracy: 0.8775\n",
      "Epoch 34/80\n",
      "210/210 [==============================] - 0s 849us/step - loss: 0.2907 - accuracy: 0.8800\n",
      "Epoch 35/80\n",
      "210/210 [==============================] - 0s 834us/step - loss: 0.2876 - accuracy: 0.8793\n",
      "Epoch 36/80\n",
      "210/210 [==============================] - 0s 849us/step - loss: 0.2855 - accuracy: 0.8806\n",
      "Epoch 37/80\n",
      "210/210 [==============================] - 0s 834us/step - loss: 0.2797 - accuracy: 0.8824\n",
      "Epoch 38/80\n",
      "210/210 [==============================] - 0s 837us/step - loss: 0.2780 - accuracy: 0.8849\n",
      "Epoch 39/80\n",
      "210/210 [==============================] - 0s 848us/step - loss: 0.2760 - accuracy: 0.8845\n",
      "Epoch 40/80\n",
      "210/210 [==============================] - 0s 833us/step - loss: 0.2743 - accuracy: 0.8858\n",
      "Epoch 41/80\n",
      "210/210 [==============================] - 0s 825us/step - loss: 0.2728 - accuracy: 0.8845\n",
      "Epoch 42/80\n",
      "210/210 [==============================] - 0s 840us/step - loss: 0.2674 - accuracy: 0.8852\n",
      "Epoch 43/80\n",
      "210/210 [==============================] - 0s 829us/step - loss: 0.2644 - accuracy: 0.8893\n",
      "Epoch 44/80\n",
      "210/210 [==============================] - 0s 816us/step - loss: 0.2619 - accuracy: 0.8878\n",
      "Epoch 45/80\n",
      "210/210 [==============================] - 0s 848us/step - loss: 0.2563 - accuracy: 0.8925\n",
      "Epoch 46/80\n",
      "210/210 [==============================] - 0s 832us/step - loss: 0.2561 - accuracy: 0.8907\n",
      "Epoch 47/80\n",
      "210/210 [==============================] - 0s 841us/step - loss: 0.2529 - accuracy: 0.8890\n",
      "Epoch 48/80\n",
      "210/210 [==============================] - 0s 840us/step - loss: 0.2501 - accuracy: 0.8918\n",
      "Epoch 49/80\n",
      "210/210 [==============================] - 0s 879us/step - loss: 0.2451 - accuracy: 0.8963\n",
      "Epoch 50/80\n",
      "210/210 [==============================] - 0s 857us/step - loss: 0.2453 - accuracy: 0.8969\n",
      "Epoch 51/80\n",
      "210/210 [==============================] - 0s 841us/step - loss: 0.2389 - accuracy: 0.8993\n",
      "Epoch 52/80\n",
      "210/210 [==============================] - 0s 832us/step - loss: 0.2403 - accuracy: 0.8964\n",
      "Epoch 53/80\n",
      "210/210 [==============================] - 0s 838us/step - loss: 0.2345 - accuracy: 0.8993\n",
      "Epoch 54/80\n",
      "210/210 [==============================] - 0s 821us/step - loss: 0.2303 - accuracy: 0.9046\n",
      "Epoch 55/80\n",
      "210/210 [==============================] - 0s 815us/step - loss: 0.2292 - accuracy: 0.8990\n",
      "Epoch 56/80\n",
      "210/210 [==============================] - 0s 824us/step - loss: 0.2255 - accuracy: 0.9034\n",
      "Epoch 57/80\n",
      "210/210 [==============================] - 0s 857us/step - loss: 0.2226 - accuracy: 0.9073\n",
      "Epoch 58/80\n",
      "210/210 [==============================] - 0s 872us/step - loss: 0.2174 - accuracy: 0.9063\n",
      "Epoch 59/80\n",
      "210/210 [==============================] - 0s 844us/step - loss: 0.2183 - accuracy: 0.9085\n",
      "Epoch 60/80\n",
      "210/210 [==============================] - 0s 854us/step - loss: 0.2156 - accuracy: 0.9109\n",
      "Epoch 61/80\n",
      "210/210 [==============================] - 0s 867us/step - loss: 0.2080 - accuracy: 0.9148\n",
      "Epoch 62/80\n",
      "210/210 [==============================] - 0s 822us/step - loss: 0.2071 - accuracy: 0.9137\n",
      "Epoch 63/80\n",
      "210/210 [==============================] - 0s 830us/step - loss: 0.2029 - accuracy: 0.9122\n",
      "Epoch 64/80\n",
      "210/210 [==============================] - 0s 827us/step - loss: 0.2003 - accuracy: 0.9142\n",
      "Epoch 65/80\n",
      "210/210 [==============================] - 0s 822us/step - loss: 0.2002 - accuracy: 0.9152\n",
      "Epoch 66/80\n",
      "210/210 [==============================] - 0s 814us/step - loss: 0.1965 - accuracy: 0.9175\n",
      "Epoch 67/80\n",
      "210/210 [==============================] - 0s 829us/step - loss: 0.1955 - accuracy: 0.9169\n",
      "Epoch 68/80\n",
      "210/210 [==============================] - 0s 840us/step - loss: 0.1867 - accuracy: 0.9233\n",
      "Epoch 69/80\n",
      "210/210 [==============================] - 0s 854us/step - loss: 0.1880 - accuracy: 0.9191\n",
      "Epoch 70/80\n",
      "210/210 [==============================] - 0s 849us/step - loss: 0.1825 - accuracy: 0.9224\n",
      "Epoch 71/80\n",
      "210/210 [==============================] - 0s 841us/step - loss: 0.1790 - accuracy: 0.9239\n",
      "Epoch 72/80\n",
      "210/210 [==============================] - 0s 858us/step - loss: 0.1756 - accuracy: 0.9263\n",
      "Epoch 73/80\n",
      "210/210 [==============================] - 0s 839us/step - loss: 0.1732 - accuracy: 0.9263\n",
      "Epoch 74/80\n",
      "210/210 [==============================] - 0s 849us/step - loss: 0.1738 - accuracy: 0.9266\n",
      "Epoch 75/80\n",
      "210/210 [==============================] - 0s 830us/step - loss: 0.1678 - accuracy: 0.9276\n",
      "Epoch 76/80\n",
      "210/210 [==============================] - 0s 829us/step - loss: 0.1677 - accuracy: 0.9307\n",
      "Epoch 77/80\n",
      "210/210 [==============================] - 0s 826us/step - loss: 0.1667 - accuracy: 0.9290\n",
      "Epoch 78/80\n",
      "210/210 [==============================] - 0s 821us/step - loss: 0.1591 - accuracy: 0.9354\n",
      "Epoch 79/80\n",
      "210/210 [==============================] - 0s 852us/step - loss: 0.1571 - accuracy: 0.9342\n",
      "Epoch 80/80\n",
      "210/210 [==============================] - 0s 839us/step - loss: 0.1562 - accuracy: 0.9367\n",
      "Predicting...\n",
      "\n",
      "              precision    recall  f1-score   support\n",
      "\n",
      "           0       0.88      0.91      0.90      2657\n",
      "           1       0.59      0.51      0.55       643\n",
      "\n",
      "    accuracy                           0.84      3300\n",
      "   macro avg       0.74      0.71      0.72      3300\n",
      "weighted avg       0.83      0.84      0.83      3300\n",
      "\n"
     ]
    }
   ],
   "source": [
    "ANN(X_train,y_train,X_test,y_test,80,'binary_crossentropy')"
   ]
  },
  {
   "cell_type": "markdown",
   "metadata": {},
   "source": [
    "93.2% Accuracy! Our model is performing exceptionally well on training dataset. Let's hope the same for our test dataset :)"
   ]
  },
  {
   "cell_type": "markdown",
   "metadata": {},
   "source": [
    "As we can see, the model is performing well on the test dataset too!\n",
    "\n",
    "Now, let's evaluate the performance using confusion matrix"
   ]
  },
  {
   "cell_type": "markdown",
   "metadata": {},
   "source": [
    "Our model has 85% Accuracy, but the precision is still low. Let's find out a reason and try fixing it"
   ]
  },
  {
   "cell_type": "code",
   "execution_count": 210,
   "metadata": {},
   "outputs": [
    {
     "data": {
      "text/plain": [
       "0    7963\n",
       "1    2037\n",
       "Name: Exited, dtype: int64"
      ]
     },
     "execution_count": 210,
     "metadata": {},
     "output_type": "execute_result"
    }
   ],
   "source": [
    "df['Exited'].value_counts()"
   ]
  },
  {
   "cell_type": "code",
   "execution_count": 211,
   "metadata": {},
   "outputs": [],
   "source": [
    "count_class_0,count_class_1 = df['Exited'].value_counts()"
   ]
  },
  {
   "cell_type": "markdown",
   "metadata": {},
   "source": [
    "As we can see, our data is imbalanced. Let's use oversampling to fix it."
   ]
  },
  {
   "cell_type": "code",
   "execution_count": 212,
   "metadata": {},
   "outputs": [],
   "source": [
    "df_class_0 = df[df['Exited']==0]\n",
    "df_class_1 = df[df['Exited']==1]"
   ]
  },
  {
   "cell_type": "code",
   "execution_count": 213,
   "metadata": {},
   "outputs": [],
   "source": [
    "df_class_1_over = df_class_1.sample(count_class_0,replace=True)"
   ]
  },
  {
   "cell_type": "code",
   "execution_count": 214,
   "metadata": {},
   "outputs": [
    {
     "data": {
      "text/plain": [
       "(7963, 16)"
      ]
     },
     "execution_count": 214,
     "metadata": {},
     "output_type": "execute_result"
    }
   ],
   "source": [
    "df_class_1_over.shape"
   ]
  },
  {
   "cell_type": "code",
   "execution_count": 215,
   "metadata": {},
   "outputs": [],
   "source": [
    "df_test_over = pd.concat([df_class_0,df_class_1_over],axis=0)"
   ]
  },
  {
   "cell_type": "code",
   "execution_count": 216,
   "metadata": {},
   "outputs": [],
   "source": [
    "X=df_test_over.drop('Exited',axis=1)\n",
    "y=df_test_over['Exited']"
   ]
  },
  {
   "cell_type": "code",
   "execution_count": 217,
   "metadata": {},
   "outputs": [],
   "source": [
    "X_train,X_test,y_train,y_test = train_test_split(X,y,test_size=0.33,stratify=y)"
   ]
  },
  {
   "cell_type": "code",
   "execution_count": 218,
   "metadata": {},
   "outputs": [
    {
     "name": "stdout",
     "output_type": "stream",
     "text": [
      "Epoch 1/80\n",
      "334/334 [==============================] - 0s 856us/step - loss: 0.5210 - accuracy: 0.7391\n",
      "Epoch 2/80\n",
      "334/334 [==============================] - 0s 870us/step - loss: 0.4830 - accuracy: 0.7638\n",
      "Epoch 3/80\n",
      "334/334 [==============================] - 0s 875us/step - loss: 0.4723 - accuracy: 0.7695\n",
      "Epoch 4/80\n",
      "334/334 [==============================] - 0s 860us/step - loss: 0.4626 - accuracy: 0.7753\n",
      "Epoch 5/80\n",
      "334/334 [==============================] - 0s 863us/step - loss: 0.4528 - accuracy: 0.7796\n",
      "Epoch 6/80\n",
      "334/334 [==============================] - 0s 839us/step - loss: 0.4453 - accuracy: 0.7860\n",
      "Epoch 7/80\n",
      "334/334 [==============================] - 0s 839us/step - loss: 0.4359 - accuracy: 0.7914\n",
      "Epoch 8/80\n",
      "334/334 [==============================] - 0s 856us/step - loss: 0.4319 - accuracy: 0.7946\n",
      "Epoch 9/80\n",
      "334/334 [==============================] - 0s 869us/step - loss: 0.4256 - accuracy: 0.7965\n",
      "Epoch 10/80\n",
      "334/334 [==============================] - 0s 859us/step - loss: 0.4230 - accuracy: 0.8014\n",
      "Epoch 11/80\n",
      "334/334 [==============================] - 0s 910us/step - loss: 0.4132 - accuracy: 0.8040\n",
      "Epoch 12/80\n",
      "334/334 [==============================] - 0s 902us/step - loss: 0.4078 - accuracy: 0.8079\n",
      "Epoch 13/80\n",
      "334/334 [==============================] - 0s 861us/step - loss: 0.4006 - accuracy: 0.8139\n",
      "Epoch 14/80\n",
      "334/334 [==============================] - 0s 853us/step - loss: 0.3956 - accuracy: 0.8135\n",
      "Epoch 15/80\n",
      "334/334 [==============================] - 0s 872us/step - loss: 0.3883 - accuracy: 0.8176\n",
      "Epoch 16/80\n",
      "334/334 [==============================] - 0s 866us/step - loss: 0.3815 - accuracy: 0.8248\n",
      "Epoch 17/80\n",
      "334/334 [==============================] - 0s 856us/step - loss: 0.3717 - accuracy: 0.8291\n",
      "Epoch 18/80\n",
      "334/334 [==============================] - 0s 860us/step - loss: 0.3650 - accuracy: 0.8311\n",
      "Epoch 19/80\n",
      "334/334 [==============================] - 0s 849us/step - loss: 0.3596 - accuracy: 0.8321\n",
      "Epoch 20/80\n",
      "334/334 [==============================] - 0s 845us/step - loss: 0.3534 - accuracy: 0.8373\n",
      "Epoch 21/80\n",
      "334/334 [==============================] - 0s 847us/step - loss: 0.3461 - accuracy: 0.8420\n",
      "Epoch 22/80\n",
      "334/334 [==============================] - 0s 856us/step - loss: 0.3392 - accuracy: 0.8480\n",
      "Epoch 23/80\n",
      "334/334 [==============================] - 0s 861us/step - loss: 0.3322 - accuracy: 0.8509\n",
      "Epoch 24/80\n",
      "334/334 [==============================] - 0s 854us/step - loss: 0.3279 - accuracy: 0.8514\n",
      "Epoch 25/80\n",
      "334/334 [==============================] - 0s 866us/step - loss: 0.3186 - accuracy: 0.8573\n",
      "Epoch 26/80\n",
      "334/334 [==============================] - 0s 860us/step - loss: 0.3109 - accuracy: 0.8638\n",
      "Epoch 27/80\n",
      "334/334 [==============================] - 0s 830us/step - loss: 0.3055 - accuracy: 0.8644\n",
      "Epoch 28/80\n",
      "334/334 [==============================] - 0s 840us/step - loss: 0.2992 - accuracy: 0.8669\n",
      "Epoch 29/80\n",
      "334/334 [==============================] - 0s 854us/step - loss: 0.2930 - accuracy: 0.8736\n",
      "Epoch 30/80\n",
      "334/334 [==============================] - 0s 868us/step - loss: 0.2914 - accuracy: 0.8725\n",
      "Epoch 31/80\n",
      "334/334 [==============================] - 0s 861us/step - loss: 0.2822 - accuracy: 0.8743\n",
      "Epoch 32/80\n",
      "334/334 [==============================] - 0s 868us/step - loss: 0.2730 - accuracy: 0.8855\n",
      "Epoch 33/80\n",
      "334/334 [==============================] - 0s 856us/step - loss: 0.2724 - accuracy: 0.8839\n",
      "Epoch 34/80\n",
      "334/334 [==============================] - 0s 833us/step - loss: 0.2597 - accuracy: 0.8871\n",
      "Epoch 35/80\n",
      "334/334 [==============================] - 0s 848us/step - loss: 0.2597 - accuracy: 0.8903\n",
      "Epoch 36/80\n",
      "334/334 [==============================] - 0s 868us/step - loss: 0.2555 - accuracy: 0.8892\n",
      "Epoch 37/80\n",
      "334/334 [==============================] - 0s 870us/step - loss: 0.2423 - accuracy: 0.9009\n",
      "Epoch 38/80\n",
      "334/334 [==============================] - 0s 861us/step - loss: 0.2388 - accuracy: 0.9007\n",
      "Epoch 39/80\n",
      "334/334 [==============================] - 0s 865us/step - loss: 0.2347 - accuracy: 0.9027\n",
      "Epoch 40/80\n",
      "334/334 [==============================] - 0s 845us/step - loss: 0.2295 - accuracy: 0.9047\n",
      "Epoch 41/80\n",
      "334/334 [==============================] - 0s 822us/step - loss: 0.2239 - accuracy: 0.9061\n",
      "Epoch 42/80\n",
      "334/334 [==============================] - 0s 844us/step - loss: 0.2185 - accuracy: 0.9096\n",
      "Epoch 43/80\n",
      "334/334 [==============================] - 0s 852us/step - loss: 0.2143 - accuracy: 0.9117\n",
      "Epoch 44/80\n",
      "334/334 [==============================] - 0s 870us/step - loss: 0.2068 - accuracy: 0.9148\n",
      "Epoch 45/80\n",
      "334/334 [==============================] - 0s 856us/step - loss: 0.2011 - accuracy: 0.9151\n",
      "Epoch 46/80\n",
      "334/334 [==============================] - 0s 853us/step - loss: 0.2001 - accuracy: 0.9176\n",
      "Epoch 47/80\n",
      "334/334 [==============================] - 0s 840us/step - loss: 0.1909 - accuracy: 0.9245\n",
      "Epoch 48/80\n",
      "334/334 [==============================] - 0s 828us/step - loss: 0.1903 - accuracy: 0.9247\n",
      "Epoch 49/80\n",
      "334/334 [==============================] - 0s 857us/step - loss: 0.1829 - accuracy: 0.9258\n",
      "Epoch 50/80\n",
      "334/334 [==============================] - 0s 855us/step - loss: 0.1791 - accuracy: 0.9284\n",
      "Epoch 51/80\n",
      "334/334 [==============================] - 0s 869us/step - loss: 0.1762 - accuracy: 0.9296\n",
      "Epoch 52/80\n",
      "334/334 [==============================] - 0s 870us/step - loss: 0.1722 - accuracy: 0.9313\n",
      "Epoch 53/80\n",
      "334/334 [==============================] - 0s 860us/step - loss: 0.1723 - accuracy: 0.9325\n",
      "Epoch 54/80\n",
      "334/334 [==============================] - 0s 859us/step - loss: 0.1722 - accuracy: 0.9303\n",
      "Epoch 55/80\n",
      "334/334 [==============================] - 0s 846us/step - loss: 0.1570 - accuracy: 0.9389\n",
      "Epoch 56/80\n",
      "334/334 [==============================] - 0s 858us/step - loss: 0.1508 - accuracy: 0.9412\n",
      "Epoch 57/80\n",
      "334/334 [==============================] - 0s 891us/step - loss: 0.1526 - accuracy: 0.9400\n",
      "Epoch 58/80\n",
      "334/334 [==============================] - 0s 905us/step - loss: 0.1493 - accuracy: 0.9437\n",
      "Epoch 59/80\n",
      "334/334 [==============================] - 0s 878us/step - loss: 0.1427 - accuracy: 0.9460\n",
      "Epoch 60/80\n",
      "334/334 [==============================] - 0s 874us/step - loss: 0.1429 - accuracy: 0.9475\n",
      "Epoch 61/80\n",
      "334/334 [==============================] - 0s 851us/step - loss: 0.1397 - accuracy: 0.9461\n",
      "Epoch 62/80\n",
      "334/334 [==============================] - 0s 843us/step - loss: 0.1327 - accuracy: 0.9515\n",
      "Epoch 63/80\n",
      "334/334 [==============================] - 0s 867us/step - loss: 0.1314 - accuracy: 0.9485\n",
      "Epoch 64/80\n",
      "334/334 [==============================] - 0s 867us/step - loss: 0.1285 - accuracy: 0.9515\n",
      "Epoch 65/80\n",
      "334/334 [==============================] - 0s 911us/step - loss: 0.1215 - accuracy: 0.9560\n",
      "Epoch 66/80\n",
      "334/334 [==============================] - 0s 867us/step - loss: 0.1171 - accuracy: 0.9564\n",
      "Epoch 67/80\n",
      "334/334 [==============================] - 0s 875us/step - loss: 0.1160 - accuracy: 0.9575\n",
      "Epoch 68/80\n",
      "334/334 [==============================] - 0s 853us/step - loss: 0.1138 - accuracy: 0.9585\n",
      "Epoch 69/80\n",
      "334/334 [==============================] - 0s 845us/step - loss: 0.1112 - accuracy: 0.9601\n",
      "Epoch 70/80\n",
      "334/334 [==============================] - 0s 858us/step - loss: 0.1090 - accuracy: 0.9606\n",
      "Epoch 71/80\n",
      "334/334 [==============================] - 0s 880us/step - loss: 0.1103 - accuracy: 0.9581\n",
      "Epoch 72/80\n",
      "334/334 [==============================] - 0s 880us/step - loss: 0.1102 - accuracy: 0.9571\n",
      "Epoch 73/80\n",
      "334/334 [==============================] - 0s 875us/step - loss: 0.1036 - accuracy: 0.9622\n",
      "Epoch 74/80\n",
      "334/334 [==============================] - 0s 863us/step - loss: 0.0995 - accuracy: 0.9622\n",
      "Epoch 75/80\n",
      "334/334 [==============================] - 0s 845us/step - loss: 0.0966 - accuracy: 0.9649\n",
      "Epoch 76/80\n",
      "334/334 [==============================] - 0s 859us/step - loss: 0.0938 - accuracy: 0.9655\n",
      "Epoch 77/80\n",
      "334/334 [==============================] - 0s 863us/step - loss: 0.0976 - accuracy: 0.9624\n",
      "Epoch 78/80\n",
      "334/334 [==============================] - 0s 871us/step - loss: 0.0936 - accuracy: 0.9669\n",
      "Epoch 79/80\n",
      "334/334 [==============================] - 0s 881us/step - loss: 0.0905 - accuracy: 0.9669\n",
      "Epoch 80/80\n",
      "334/334 [==============================] - 0s 865us/step - loss: 0.0886 - accuracy: 0.9673\n",
      "Predicting...\n",
      "\n",
      "              precision    recall  f1-score   support\n",
      "\n",
      "           0       0.94      0.85      0.89      2628\n",
      "           1       0.86      0.94      0.90      2628\n",
      "\n",
      "    accuracy                           0.90      5256\n",
      "   macro avg       0.90      0.90      0.90      5256\n",
      "weighted avg       0.90      0.90      0.90      5256\n",
      "\n"
     ]
    }
   ],
   "source": [
    "ANN(X_train,y_train,X_test,y_test,80,'binary_crossentropy')"
   ]
  },
  {
   "cell_type": "markdown",
   "metadata": {},
   "source": [
    "Oversampling turned out to be helpful! Now our precision for class 1 has gone up from 59% to 86%.\n",
    "\n",
    "The model is performing better than before."
   ]
  },
  {
   "cell_type": "code",
   "execution_count": null,
   "metadata": {},
   "outputs": [],
   "source": []
  }
 ],
 "metadata": {
  "kernelspec": {
   "display_name": "Python 3 (ipykernel)",
   "language": "python",
   "name": "python3"
  },
  "language_info": {
   "codemirror_mode": {
    "name": "ipython",
    "version": 3
   },
   "file_extension": ".py",
   "mimetype": "text/x-python",
   "name": "python",
   "nbconvert_exporter": "python",
   "pygments_lexer": "ipython3",
   "version": "3.8.8"
  },
  "vscode": {
   "interpreter": {
    "hash": "7cb3757e06b615d7e785e6b31b4b3ab2bd6204a42dda22efb6abed8dfd95f379"
   }
  }
 },
 "nbformat": 4,
 "nbformat_minor": 2
}
